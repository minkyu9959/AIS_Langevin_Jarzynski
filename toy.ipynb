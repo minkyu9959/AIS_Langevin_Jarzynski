{
 "cells": [
  {
   "cell_type": "code",
   "execution_count": 5,
   "metadata": {},
   "outputs": [
    {
     "name": "stdout",
     "output_type": "stream",
     "text": [
      "tensor(0.1111)\n",
      "tensor(0.2222)\n",
      "tensor(0.3333)\n",
      "tensor(0.4444)\n",
      "tensor(0.5556)\n",
      "tensor(0.6667)\n",
      "tensor(0.7778)\n",
      "tensor(0.8889)\n",
      "tensor(1.)\n",
      "9\n",
      "tensor([0., 0., 0., 0., 0., 0., 0., 0., 0.])\n"
     ]
    }
   ],
   "source": [
    "import torch\n",
    "annealing_steps = 10\n",
    "\n",
    "i = 0\n",
    "for t in torch.linspace(0, 1, annealing_steps)[1:]:\n",
    "  i += 1\n",
    "  print(t)\n",
    "print(i) \n",
    "\n",
    "ts = torch.zeros(9)\n",
    "print(ts)"
   ]
  }
 ],
 "metadata": {
  "kernelspec": {
   "display_name": "ann_LP",
   "language": "python",
   "name": "python3"
  },
  "language_info": {
   "codemirror_mode": {
    "name": "ipython",
    "version": 3
   },
   "file_extension": ".py",
   "mimetype": "text/x-python",
   "name": "python",
   "nbconvert_exporter": "python",
   "pygments_lexer": "ipython3",
   "version": "3.10.0"
  }
 },
 "nbformat": 4,
 "nbformat_minor": 2
}
