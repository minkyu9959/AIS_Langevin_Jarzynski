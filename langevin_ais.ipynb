{
 "cells": [
  {
   "cell_type": "code",
   "execution_count": null,
   "metadata": {},
   "outputs": [],
   "source": [
    "import os\n",
    "os.chdir(\"/home/guest_dyw/diffusion-sampler/\")\n",
    "\n",
    "import torch\n",
    "import matplotlib.pyplot as plt\n",
    "\n",
    "from omegaconf import DictConfig\n",
    "\n",
    "from tqdm import tqdm\n",
    "\n",
    "from trainer.utils.langevin import langevin_dynamics\n",
    "from energy import (\n",
    "    AnnealedDensities,\n",
    "    AnnealedEnergy,\n",
    "    BaseEnergy,\n",
    "    get_energy_function,\n",
    "    GaussianEnergy,\n",
    ")\n",
    "from utility import SamplePlotter"
   ]
  },
  {
   "cell_type": "code",
   "execution_count": null,
   "metadata": {},
   "outputs": [],
   "source": [
    "cfg = DictConfig(\n",
    "    {\n",
    "        \"num_samples\": 1000,\n",
    "        \"num_time_steps\": 3,\n",
    "        \"max_iter_ls\": 1000,\n",
    "        \"burn_in\": 100,\n",
    "        \"ld_schedule\": True,\n",
    "        \"ld_step\": 0.1,\n",
    "        \"target_acceptance_rate\": 0.574,\n",
    "        \"device\": \"cuda\",\n",
    "        \"energy\": {\n",
    "            \"_target_\": \"energy.gmm.GMM25\",\n",
    "            \"dim\": 2,\n",
    "        },\n",
    "        \"eval\": {\n",
    "            \"plot\": {\n",
    "                \"plotting_bounds\": [-15.0, 15.0],\n",
    "                # \"projection_dims\": [[0, 2], [1, 2], [2, 4], [3, 4], [4, 6], [5, 6]],\n",
    "                \"fig_size\": [12, 12],\n",
    "            }\n",
    "        },\n",
    "    }\n",
    ")"
   ]
  },
  {
   "cell_type": "code",
   "execution_count": null,
   "metadata": {},
   "outputs": [],
   "source": [
    "energy = get_energy_function(cfg)\n",
    "prior = GaussianEnergy(device=\"cuda\", dim=2, std=12.0)\n",
    "plotter = SamplePlotter(energy, **cfg.eval.plot)\n",
    "\n",
    "annealed_densities = AnnealedDensities(energy, prior)\n",
    "\n",
    "device = cfg.device\n",
    "num_time_steps = cfg.num_time_steps\n",
    "num_samples = cfg.num_samples"
   ]
  },
  {
   "cell_type": "code",
   "execution_count": null,
   "metadata": {},
   "outputs": [],
   "source": [
    "sample = prior.sample(num_samples, device)\n",
    "\n",
    "for t in torch.linspace(0, 1, num_time_steps):\n",
    "    print(t)\n",
    "    annealed_energy = AnnealedEnergy(annealed_densities, t)\n",
    "    sample, _ = langevin_dynamics(sample, annealed_energy.log_reward, device, cfg)\n",
    "    sample = sample.detach()[-num_samples:]\n",
    "\n",
    "    fig, ax = plotter.make_sample_plot(sample)\n",
    "    plt.show()"
   ]
  }
 ],
 "metadata": {
  "kernelspec": {
   "display_name": "Python 3",
   "language": "python",
   "name": "python3"
  },
  "language_info": {
   "codemirror_mode": {
    "name": "ipython",
    "version": 3
   },
   "file_extension": ".py",
   "mimetype": "text/x-python",
   "name": "python",
   "nbconvert_exporter": "python",
   "pygments_lexer": "ipython3",
   "version": "3.10.0"
  }
 },
 "nbformat": 4,
 "nbformat_minor": 2
}
